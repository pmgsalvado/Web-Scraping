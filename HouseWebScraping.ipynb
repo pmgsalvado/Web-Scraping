{
  "nbformat": 4,
  "nbformat_minor": 0,
  "metadata": {
    "colab": {
      "provenance": [],
      "collapsed_sections": [],
      "mount_file_id": "10cmfEvOsHaBWOyzxNKgMgQMvFsH92JAC",
      "authorship_tag": "ABX9TyM7pHqySlzVFU/IgL6LNsFk",
      "include_colab_link": true
    },
    "kernelspec": {
      "name": "python3",
      "display_name": "Python 3"
    },
    "language_info": {
      "name": "python"
    }
  },
  "cells": [
    {
      "cell_type": "markdown",
      "metadata": {
        "id": "view-in-github",
        "colab_type": "text"
      },
      "source": [
        "<a href=\"https://colab.research.google.com/github/pmgsalvado/Web-Scraping/blob/main/HouseWebScraping.ipynb\" target=\"_parent\"><img src=\"https://colab.research.google.com/assets/colab-badge.svg\" alt=\"Open In Colab\"/></a>"
      ]
    },
    {
      "cell_type": "markdown",
      "source": [
        "<h1>Web Scraping - Portuguese Apartment Renting WebSite - ImoVirtual</h1>\n",
        "<p>Every time we need to proceed with websites scraping we must have a clear understanting of it's structure. We have to first analyse the site, identify where the information that we want to acquire, is. Then we have to find it on the HTML structure. For that we can use inspect (on Chrome).</p>\n",
        "<p>We just have to right click of the website and click on inspect. A new window will open, with the HTML structure. In this windows we can check the tags, classes, id, etc. that we need to identify in order to fetch the data that we want</p>\n"
      ],
      "metadata": {
        "id": "ejUh_Hty30ht"
      }
    },
    {
      "cell_type": "code",
      "execution_count": 1,
      "metadata": {
        "id": "VOSTvYGocjUx"
      },
      "outputs": [],
      "source": [
        "import requests\n",
        "from bs4 import BeautifulSoup\n",
        "import pandas as pd\n"
      ]
    },
    {
      "cell_type": "markdown",
      "source": [
        "<p>First we are going to check how many pages we need to go through to fetch all the ads.</p>\n",
        "<p>For that we are going to retrive that number by \"reading\" the homepage of the website.</p>"
      ],
      "metadata": {
        "id": "qj2b033gmNFb"
      }
    },
    {
      "cell_type": "code",
      "source": [
        "# Read the home page.\n",
        "# objecive: Find the total number of pages.\n",
        "url = 'https://www.imovirtual.com/arrendar/apartamento/'\n",
        "req1 = requests.get(url)\n",
        "imo1 = BeautifulSoup(req1.text, 'html.parser')\n",
        "number_pages = int(imo1.find_all('div', {'class': 'listing'})[0].find_all('ul', {'class': 'pager'})[0].find_all('li')[-2].string)\n",
        "print(number_pages)"
      ],
      "metadata": {
        "colab": {
          "base_uri": "https://localhost:8080/"
        },
        "id": "Dfvj5nENmJSg",
        "outputId": "242d861e-797a-4c02-d664-ca0584e88381"
      },
      "execution_count": 2,
      "outputs": [
        {
          "output_type": "stream",
          "name": "stdout",
          "text": [
            "84\n"
          ]
        }
      ]
    },
    {
      "cell_type": "markdown",
      "source": [
        "<p>The next step is to change the address page (url) to include each page on our analysis</p>\n",
        "<p>Steps below. <u>This step may take a minute or so</u>.</p>"
      ],
      "metadata": {
        "id": "7IgbIbKIm2Tj"
      }
    },
    {
      "cell_type": "code",
      "source": [
        "# create the variable that will take all html from each page\n",
        "req_final = req1.text\n",
        "# custom url. check that the link finishes with 'page=' for each page we are going to add the page number\n",
        "# '...page=2' then '...page=3' and so on.\n",
        "url_page = 'https://www.imovirtual.com/arrendar/apartamento/?page=' # + number of the page\n",
        "\n",
        "for page in range(2,number_pages):\n",
        "  url = url_page + str(page)\n",
        "  req_tmp = requests.get(url)\n",
        "  # if the request status is 200, everything went well and we add to the req_final each html structure\n",
        "  if req_tmp.status_code == 200:\n",
        "      req_final += req_tmp.text\n",
        "\n"
      ],
      "metadata": {
        "id": "CC9cuhnLmJPD"
      },
      "execution_count": 3,
      "outputs": []
    },
    {
      "cell_type": "markdown",
      "source": [
        "<p>Each page, has a list of adds, that are inside a 'listing' tag. We must fetch for that tag.</p>\n",
        "<p>Step below:</p>"
      ],
      "metadata": {
        "id": "ZvXCwQIrntzE"
      }
    },
    {
      "cell_type": "code",
      "source": [
        "# find listing tags for each page\n",
        "imovirtual = BeautifulSoup(req_final, 'html.parser')\n",
        "listing = imovirtual.find_all('div', {'class':'listing'})\n",
        "len(listing)"
      ],
      "metadata": {
        "colab": {
          "base_uri": "https://localhost:8080/"
        },
        "id": "FHluQ3hWmJLH",
        "outputId": "0a876d6d-6814-440c-954a-888ba67b3614"
      },
      "execution_count": 4,
      "outputs": [
        {
          "output_type": "execute_result",
          "data": {
            "text/plain": [
              "83"
            ]
          },
          "metadata": {},
          "execution_count": 4
        }
      ]
    },
    {
      "cell_type": "markdown",
      "source": [
        "<p>As we can see we have 83 \"lists\"</p>\n",
        "\n",
        "<p>Next step, we are going to fetch all the adds (articles)</p>\n",
        "<p>For each list in listing, we are going to place each add inside the articles list.</p>\n",
        "\n"
      ],
      "metadata": {
        "id": "6gVwdYzjoSID"
      }
    },
    {
      "cell_type": "code",
      "source": [
        "articles = []\n",
        "for list in listing:\n",
        "  articles.extend(list.find_all('article'))\n",
        "\n",
        "#len(listing[1].find_all('article'))\n",
        "\n",
        "len(articles)"
      ],
      "metadata": {
        "colab": {
          "base_uri": "https://localhost:8080/"
        },
        "id": "kwTU_-mbmJEr",
        "outputId": "f4a6dc55-76f6-4b96-8661-6a62ab10cb28"
      },
      "execution_count": 5,
      "outputs": [
        {
          "output_type": "execute_result",
          "data": {
            "text/plain": [
              "1992"
            ]
          },
          "metadata": {},
          "execution_count": 5
        }
      ]
    },
    {
      "cell_type": "code",
      "source": [
        "house_dict = {'title': [], 'area': [],'typology': [],  'price': [],'Energy Efficiency': [], 'address': []} \n",
        "count=0\n",
        "for article in articles:\n",
        "  title = article.find('span', {'class' : 'offer-item-title'}).string\n",
        "  area = article.find(class_='offer-item-area').string\n",
        "  price = str(article.find('li',class_='offer-item-price').string).replace(' ', '').replace('\\n', '')\n",
        "  typology = article.find(class_='offer-item-rooms').string\n",
        "  try:\n",
        "    energy = article.find('div', {'class': 'energy-certify -c'}).string\n",
        "  except:\n",
        "    energy = 'nan'\n",
        "  address_ = article.find('p', {'class': 'text-nowrap'})\n",
        "  count = 0\n",
        "  for address in address_.stripped_strings:\n",
        "    if count > 0:\n",
        "      address_f = address\n",
        "    count += 1\n",
        "\n",
        "  if len(typology.split()) == 0:\n",
        "    house_dict['typology'].append('nan')\n",
        "  else:\n",
        "    house_dict['typology'].append(typology)\n",
        "\n",
        "  if len(title.split()) == 0:\n",
        "    house_dict['title'].append('nan')\n",
        "  else: \n",
        "    house_dict['title'].append(title)\n",
        "  if len(area.split()) == 0:\n",
        "    house_dict['area'].append('nan')\n",
        "  else:\n",
        "    house_dict['area'].append(area)\n",
        "  if len(price.split()) == 0:\n",
        "    house_dict['price'].append('nan')\n",
        "  else:\n",
        "    house_dict['price'].append(price)\n",
        "  if len(address.split()) == 0:\n",
        "    house_dict['address'].append('nan')\n",
        "  else:\n",
        "    house_dict['address'].append(address_f)\n",
        "\n",
        "  if len(energy.split()) == 0:\n",
        "    house_dict['Energy Efficiency'].append('nan')\n",
        "  else:\n",
        "    house_dict['Energy Efficiency'].append(energy)\n",
        "\n",
        "imovirtual_df = pd.DataFrame.from_dict(house_dict)"
      ],
      "metadata": {
        "id": "p3qpiExIn5Ru"
      },
      "execution_count": 6,
      "outputs": []
    },
    {
      "cell_type": "code",
      "source": [
        "print(imovirtual_df['typology'].unique())\n",
        "print(imovirtual_df['Energy Efficiency'].unique())\n"
      ],
      "metadata": {
        "colab": {
          "base_uri": "https://localhost:8080/"
        },
        "id": "nROXR2cQsInW",
        "outputId": "b7b84900-0cc8-40da-9117-9edc39036f59"
      },
      "execution_count": 7,
      "outputs": [
        {
          "output_type": "stream",
          "name": "stdout",
          "text": [
            "['T2' 'T1' 'T3' 'T0' 'T5' 'T4' 'T6' 'T9' 'T8' 'T10 ou superior']\n",
            "['nan' 'C']\n"
          ]
        }
      ]
    },
    {
      "cell_type": "markdown",
      "source": [
        "<p>Since much of the information is inserted by a person, some mistakes might occur</p>\n",
        "<p>As we have seen, price, area, typology, energy efficiency, must have a specific structure, or elements common to each Ad:</p>\n",
        "<ul>\n",
        "  <li>price structure:  <b>€/mês</b></li>\n",
        "  <li>area structure:  <b>m²</b></li>\n",
        "  <li>Energy Efficiency:  <b>Letter from A to G -></b> <a href='https://www.unido.org/sites/default/files/2009-02/Module18_0.pdf'> Check this document page 20</a></li>\n",
        "  <li>Typology:  <b>T[0-10+]</b></li>\n",
        "<ul>\n",
        "<br>\n",
        "<p><u>For this analysis we'll use Regular Expressions</ul></p>"
      ],
      "metadata": {
        "id": "-YX_5mNvvvay"
      }
    },
    {
      "cell_type": "code",
      "source": [
        "import re"
      ],
      "metadata": {
        "id": "cSJHreHC81QJ"
      },
      "execution_count": 8,
      "outputs": []
    },
    {
      "cell_type": "code",
      "source": [
        "def verify_structure(dataframe, col:str, structure: str):\n",
        "  \"\"\"\n",
        "    This function will receive a dataframe, a column name and a structure to verify.\n",
        "    If any row doesn't match that structure a 'nan' is added to that specific line of the columns being analyzed\n",
        "  \"\"\"\n",
        "  for idx in dataframe.index:\n",
        "    check = dataframe[col].iloc[idx]\n",
        "    x = re.search(structure, check)\n",
        "    if not(x):\n",
        "      dataframe[col].iloc[idx] = 'nan'\n",
        "  return dataframe"
      ],
      "metadata": {
        "id": "yRRiyZb-yS3N"
      },
      "execution_count": 9,
      "outputs": []
    },
    {
      "cell_type": "markdown",
      "source": [
        "<p>Let's verify the price column</p>"
      ],
      "metadata": {
        "id": "QkcmC65Qx5sb"
      }
    },
    {
      "cell_type": "code",
      "source": [
        "imovirtual_df = verify_structure(imovirtual_df, 'price', '€/mês')"
      ],
      "metadata": {
        "id": "uylDm8gezh9f"
      },
      "execution_count": 10,
      "outputs": []
    },
    {
      "cell_type": "markdown",
      "source": [
        "<p>Let's verify the area column</p>"
      ],
      "metadata": {
        "id": "GMqO4xOkyKsU"
      }
    },
    {
      "cell_type": "code",
      "source": [
        "imovirtual_df = verify_structure(imovirtual_df, 'area', 'm²')"
      ],
      "metadata": {
        "id": "OxLr_A8cyOzK"
      },
      "execution_count": 11,
      "outputs": []
    },
    {
      "cell_type": "markdown",
      "source": [
        "<p>Let's verify the typology column</p>"
      ],
      "metadata": {
        "id": "_xtFdtIn0BEK"
      }
    },
    {
      "cell_type": "code",
      "source": [
        "imovirtual_df = verify_structure(imovirtual_df, 'typology', 'T[0-9]')"
      ],
      "metadata": {
        "id": "8KpcRbzi2U6c"
      },
      "execution_count": 12,
      "outputs": []
    },
    {
      "cell_type": "markdown",
      "source": [
        "<p>LEt's verify Energy Efficiency</p>\n"
      ],
      "metadata": {
        "id": "B8X8oPYi2lTd"
      }
    },
    {
      "cell_type": "code",
      "source": [
        "imovirtual_df = verify_structure(imovirtual_df, 'Energy Efficiency', '[A-G]')"
      ],
      "metadata": {
        "id": "x85rWSC43iry"
      },
      "execution_count": 13,
      "outputs": []
    },
    {
      "cell_type": "markdown",
      "source": [
        "<h4>This step was not necessary, however to check for the coherence between the Title description and the select typology I decided to compare the description with the Tipology</h4>\n",
        "\n",
        "<h5><b>For that, we'll use Regular Expressions to help with that</b></h5>\n",
        "<h5><u>Regular Expression: </u></h5>\n",
        "<ul>\n",
        "  <li>re.findall(pattern, text)</li>\n",
        "  <li>pattern to find: T[0-9]</li>\n",
        "  <li> [0-9] - any value between 0 and 9 </li> \n",
        "\n",
        "</ul>"
      ],
      "metadata": {
        "id": "MiJrMk1ZDD1M"
      }
    },
    {
      "cell_type": "code",
      "source": [
        "typology_check = []\n",
        "\n",
        "for idx in imovirtual_df.index:\n",
        "    text = imovirtual_df['title'].iloc[idx]\n",
        "    x = re.findall('T[0-9]', text)\n",
        "    if len(x) != 0:\n",
        "      typology_check.append(x[0])\n",
        "    else:\n",
        "      typology_check.append('nan')\n",
        "\n",
        "#change the order of the columns\n",
        "new_cols_order = ['title', 'area', 'price', 'typology', 'typology_check','Energy Efficiency', 'address']\n",
        "#add the list above to a new column\n",
        "imovirtual_df['typology_check'] = typology_check\n",
        "imovirtual_df= imovirtual_df[new_cols_order]\n",
        "\n",
        "#imovirtual_df.head(10)"
      ],
      "metadata": {
        "id": "BKQSjfFuALZb"
      },
      "execution_count": 14,
      "outputs": []
    },
    {
      "cell_type": "code",
      "source": [
        "imovirtual_df['typology_check'].unique()"
      ],
      "metadata": {
        "colab": {
          "base_uri": "https://localhost:8080/"
        },
        "id": "lBWWsZjO8tML",
        "outputId": "9d934bd9-4f6a-4601-aa04-cc9df2fc826f"
      },
      "execution_count": 15,
      "outputs": [
        {
          "output_type": "execute_result",
          "data": {
            "text/plain": [
              "array(['T2', 'T1', 'T3', 'T0', 'nan', 'T5', 'T4', 'T6', 'T9', 'T8'],\n",
              "      dtype=object)"
            ]
          },
          "metadata": {},
          "execution_count": 15
        }
      ]
    },
    {
      "cell_type": "markdown",
      "source": [
        "<p>Since this dataframe is quite small we could easily see if we have any problem. However, for the sake, of \"learning\" let's find an automatic way to check if the values between the columns 'typology' and 'typology_check' match</p>"
      ],
      "metadata": {
        "id": "2WXWMB_-FIGk"
      }
    },
    {
      "cell_type": "code",
      "source": [
        "def check_different_values_and_correct(dataframe, col1: str, col2: str, col_priority: str):\n",
        "  \"\"\"\n",
        "      This function, receives a dataframe, and two strings with the names of the columns to compare.\n",
        "      It check 'line' by 'line' if the values of the two columns match. If yes don't do anything.\n",
        "      If they are different, they are corrected.\n",
        "      col_priority - > states the correct column, or the one that takes preference when it comes be more valuable and is the ony that is going\n",
        "        to still remain on the dataframe, the other one will be removed. So condition col_pritority == col1 or col_priority == col2. otherwise error\n",
        "\n",
        "      return: dataframe (corrected)\n",
        "  \"\"\"\n",
        "  if col1 == col_priority or col2 == col_priority:\n",
        "    col_stay = col_priority\n",
        "    if col1 == col_priority:\n",
        "      col_remove = col2\n",
        "    elif col2 == col_priority:\n",
        "      col_remove = col1\n",
        "\n",
        "    list1 = list(dataframe[col1].values)\n",
        "    list2 = list(dataframe[col2].values)\n",
        "\n",
        "    no_match_idx = []\n",
        "    if len(list1) != len(list2):\n",
        "      print('Length of the lists doesn\\'t match')\n",
        "    else:\n",
        "      for idx in range(len(list1)):\n",
        "        if list1[idx] != list2[idx]:\n",
        "          no_match_idx.append(idx)\n",
        "\n",
        "    for idx in no_match_idx:\n",
        "      if dataframe[col_stay].iloc[idx] == 'nan' and dataframe[col_remove].iloc[idx] != 'nan':\n",
        "        dataframe[col_stay].iloc[idx] = dataframe[col_remove].iloc[idx]\n",
        "\n",
        "    dataframe.drop(col_remove, axis=1, inplace=True)\n",
        "\n",
        "    return dataframe\n",
        "  else:\n",
        "    print('Error: no matching columns')\n",
        "    \n",
        "  "
      ],
      "metadata": {
        "id": "0Uzcp05VFGxY"
      },
      "execution_count": 16,
      "outputs": []
    },
    {
      "cell_type": "code",
      "source": [
        "imovirtual_df = check_different_values_and_correct(imovirtual_df, 'typology', 'typology_check','typology_check')\n"
      ],
      "metadata": {
        "id": "N_hnIcfjGgxi"
      },
      "execution_count": 17,
      "outputs": []
    },
    {
      "cell_type": "code",
      "source": [
        "imovirtual_df['typology_check'].unique()"
      ],
      "metadata": {
        "colab": {
          "base_uri": "https://localhost:8080/"
        },
        "id": "2mbbYafq9F2E",
        "outputId": "94e7833f-5a9f-4f47-f58a-a16d374b08dd"
      },
      "execution_count": 18,
      "outputs": [
        {
          "output_type": "execute_result",
          "data": {
            "text/plain": [
              "array(['T2', 'T1', 'T3', 'T0', 'nan', 'T5', 'T4', 'T6', 'T9', 'T8'],\n",
              "      dtype=object)"
            ]
          },
          "metadata": {},
          "execution_count": 18
        }
      ]
    },
    {
      "cell_type": "code",
      "source": [
        "imovirtual_df.rename(columns={'title': 'Description', 'area': 'Area (m²)', 'price': 'Price (€/month)', 'typology_check' : 'Typology', 'address': 'Address'}, inplace=True)\n",
        "imovirtual_df.to_csv('/content/drive/MyDrive/Colab Notebooks/IBM Data Science doc/Python for Data Science/API - Websraping/Imovirtual.csv', index=False)"
      ],
      "metadata": {
        "id": "zsUBvi1yYTv8"
      },
      "execution_count": 19,
      "outputs": []
    },
    {
      "cell_type": "code",
      "source": [
        "imovirtual_df = pd.read_csv('/content/drive/MyDrive/Colab Notebooks/IBM Data Science doc/Python for Data Science/API - Websraping/Imovirtual.csv')"
      ],
      "metadata": {
        "id": "l3G5C15OpYoz"
      },
      "execution_count": 84,
      "outputs": []
    },
    {
      "cell_type": "markdown",
      "source": [
        "<p>Let's take a quick look at the dataframe</p>\n",
        "<p>We have to make sure that Area (m²) and Price (€/month) have only </p>"
      ],
      "metadata": {
        "id": "b0Nswv6MpFoU"
      }
    },
    {
      "cell_type": "code",
      "source": [
        "imovirtual_df.info()"
      ],
      "metadata": {
        "colab": {
          "base_uri": "https://localhost:8080/"
        },
        "id": "pHwsFcfhpK0P",
        "outputId": "e673d23e-85d2-4b1d-d329-d7c7235a058f"
      },
      "execution_count": 86,
      "outputs": [
        {
          "output_type": "stream",
          "name": "stdout",
          "text": [
            "<class 'pandas.core.frame.DataFrame'>\n",
            "RangeIndex: 1992 entries, 0 to 1991\n",
            "Data columns (total 6 columns):\n",
            " #   Column             Non-Null Count  Dtype \n",
            "---  ------             --------------  ----- \n",
            " 0   Description        1992 non-null   object\n",
            " 1   Area (m²)          1992 non-null   object\n",
            " 2   Price (€/month)    1981 non-null   object\n",
            " 3   Typology           1643 non-null   object\n",
            " 4   Energy Efficiency  660 non-null    object\n",
            " 5   Address            1992 non-null   object\n",
            "dtypes: object(6)\n",
            "memory usage: 93.5+ KB\n"
          ]
        }
      ]
    },
    {
      "cell_type": "markdown",
      "source": [
        "<h1>Each time that we run the code we are going to find different apartments, since the webpage is always updating</h1>\n",
        "<p>At this stage we are going to start working on the dataframe</p>\n",
        "<p><b>The are a couple of operations that we still have to do to make this dataframe usable</b></p>\n",
        "<ol>\n",
        "  <li>convert Area and Price to floats</li>\n",
        "  <li>Split the Adress to create a nue column with \"City\"</li>\n",
        "</ol>"
      ],
      "metadata": {
        "id": "eNezIyE5Zsh-"
      }
    },
    {
      "cell_type": "markdown",
      "source": [
        "<p><b>1 - Convert Area and Price to float</b></p>"
      ],
      "metadata": {
        "id": "Nr9XMH1z6p7m"
      }
    },
    {
      "cell_type": "code",
      "source": [
        "# ------------- 1 step ---------------------------------\n",
        "# ------------- convert Area ---------------------------\n",
        "# step to remove the m²\n",
        "imovirtual_df['Area (m²)'] = imovirtual_df['Area (m²)'].str.replace('m²', '')\n",
        "# in order to be able to convert string to float, we have to change the ',' with '.'\n",
        "imovirtual_df['Area (m²)'] = imovirtual_df['Area (m²)'].str.replace(',', '.')\n",
        "# convert to float\n",
        "imovirtual_df['Area (m²)'] = imovirtual_df['Area (m²)'].astype('float')\n",
        "\n",
        "# ------------- convert Price ---------------------------\n",
        "# step to remove €/mês\n",
        "imovirtual_df['Price (€/month)'] = imovirtual_df['Price (€/month)'].str.replace('€/mês', '')\n",
        "# convert to float\n",
        "imovirtual_df['Price (€/month)'] = imovirtual_df['Price (€/month)'].astype('float')\n",
        "#imovirtual_df"
      ],
      "metadata": {
        "id": "7TSna6YBXV1Y"
      },
      "execution_count": 87,
      "outputs": []
    },
    {
      "cell_type": "markdown",
      "source": [
        "<p><b>2 - Split Address and create new column with \"City\" - capital de distrito -(in Protugues)</b></p>\n",
        "<p>If we analyse, the city, is always at the end of the string, so it will be easy to separate from the rest</p>\n",
        "<p>We'll use .split(','). split the string by ',', it will create a list, and since it will always be the last element of the list we'll use list[-1], to grab the last element</p>"
      ],
      "metadata": {
        "id": "cdrsnJlz6mZu"
      }
    },
    {
      "cell_type": "code",
      "source": [
        "# we'll create a series, where each row will be a list from the split operation\n",
        "addresses=imovirtual_df['Address'].str.split(',')\n",
        "# after we'll add the city element to a new dictionary with key 'City' with a list\n",
        "city = {'City': []}\n",
        "for address in addresses:\n",
        "  city['City'].append(address[-1])\n",
        "\n",
        "city_df = pd.DataFrame.from_dict(city)\n",
        "\n",
        "# now we'll add this dict to the existing dataframe - imovirtual_df\n",
        "imovirtual_df = pd.concat([imovirtual_df, city_df], axis=1)\n",
        "del city_df\n",
        "#imovirtual_df"
      ],
      "metadata": {
        "id": "4OFZQ0Sn53d_"
      },
      "execution_count": 88,
      "outputs": []
    },
    {
      "cell_type": "markdown",
      "source": [
        "<h3>This is quite a simple dataframe. We'll just do some easy exploratory data analysis. The main purpose of this notebook was to show and test some webscraping and dealing with the data fetched.</h3>"
      ],
      "metadata": {
        "id": "1mjVFoQlA1yS"
      }
    },
    {
      "cell_type": "code",
      "source": [
        "imovirtual_df.info()"
      ],
      "metadata": {
        "colab": {
          "base_uri": "https://localhost:8080/"
        },
        "id": "yjvh9X_KAwbM",
        "outputId": "c3083ecc-4bb9-4812-9979-c2f151034d04"
      },
      "execution_count": 89,
      "outputs": [
        {
          "output_type": "stream",
          "name": "stdout",
          "text": [
            "<class 'pandas.core.frame.DataFrame'>\n",
            "RangeIndex: 1992 entries, 0 to 1991\n",
            "Data columns (total 7 columns):\n",
            " #   Column             Non-Null Count  Dtype  \n",
            "---  ------             --------------  -----  \n",
            " 0   Description        1992 non-null   object \n",
            " 1   Area (m²)          1992 non-null   float64\n",
            " 2   Price (€/month)    1981 non-null   float64\n",
            " 3   Typology           1643 non-null   object \n",
            " 4   Energy Efficiency  660 non-null    object \n",
            " 5   Address            1992 non-null   object \n",
            " 6   City               1992 non-null   object \n",
            "dtypes: float64(2), object(5)\n",
            "memory usage: 109.1+ KB\n"
          ]
        }
      ]
    },
    {
      "cell_type": "markdown",
      "source": [
        "<p>As we can see we have been able to convert the Area (m²) and Price to float and create a column for the City</p>"
      ],
      "metadata": {
        "id": "d7jhgMvXB4FN"
      }
    },
    {
      "cell_type": "code",
      "source": [
        "imovirtual_df.describe()"
      ],
      "metadata": {
        "colab": {
          "base_uri": "https://localhost:8080/",
          "height": 300
        },
        "id": "i4undsWnCDvu",
        "outputId": "585abf7e-5eb5-4003-eb24-acd3d257086e"
      },
      "execution_count": 25,
      "outputs": [
        {
          "output_type": "execute_result",
          "data": {
            "text/plain": [
              "         Area (m²)  Price (€/month)\n",
              "count  1992.000000      1981.000000\n",
              "mean     97.640999      3934.212014\n",
              "std      52.072000     33715.171316\n",
              "min       1.000000        50.000000\n",
              "25%      65.000000       730.000000\n",
              "50%      90.000000       950.000000\n",
              "75%     120.000000      1500.000000\n",
              "max     600.000000    690000.000000"
            ],
            "text/html": [
              "\n",
              "  <div id=\"df-f81de6a1-8a24-4a63-87ca-390d88ad13a8\">\n",
              "    <div class=\"colab-df-container\">\n",
              "      <div>\n",
              "<style scoped>\n",
              "    .dataframe tbody tr th:only-of-type {\n",
              "        vertical-align: middle;\n",
              "    }\n",
              "\n",
              "    .dataframe tbody tr th {\n",
              "        vertical-align: top;\n",
              "    }\n",
              "\n",
              "    .dataframe thead th {\n",
              "        text-align: right;\n",
              "    }\n",
              "</style>\n",
              "<table border=\"1\" class=\"dataframe\">\n",
              "  <thead>\n",
              "    <tr style=\"text-align: right;\">\n",
              "      <th></th>\n",
              "      <th>Area (m²)</th>\n",
              "      <th>Price (€/month)</th>\n",
              "    </tr>\n",
              "  </thead>\n",
              "  <tbody>\n",
              "    <tr>\n",
              "      <th>count</th>\n",
              "      <td>1992.000000</td>\n",
              "      <td>1981.000000</td>\n",
              "    </tr>\n",
              "    <tr>\n",
              "      <th>mean</th>\n",
              "      <td>97.640999</td>\n",
              "      <td>3934.212014</td>\n",
              "    </tr>\n",
              "    <tr>\n",
              "      <th>std</th>\n",
              "      <td>52.072000</td>\n",
              "      <td>33715.171316</td>\n",
              "    </tr>\n",
              "    <tr>\n",
              "      <th>min</th>\n",
              "      <td>1.000000</td>\n",
              "      <td>50.000000</td>\n",
              "    </tr>\n",
              "    <tr>\n",
              "      <th>25%</th>\n",
              "      <td>65.000000</td>\n",
              "      <td>730.000000</td>\n",
              "    </tr>\n",
              "    <tr>\n",
              "      <th>50%</th>\n",
              "      <td>90.000000</td>\n",
              "      <td>950.000000</td>\n",
              "    </tr>\n",
              "    <tr>\n",
              "      <th>75%</th>\n",
              "      <td>120.000000</td>\n",
              "      <td>1500.000000</td>\n",
              "    </tr>\n",
              "    <tr>\n",
              "      <th>max</th>\n",
              "      <td>600.000000</td>\n",
              "      <td>690000.000000</td>\n",
              "    </tr>\n",
              "  </tbody>\n",
              "</table>\n",
              "</div>\n",
              "      <button class=\"colab-df-convert\" onclick=\"convertToInteractive('df-f81de6a1-8a24-4a63-87ca-390d88ad13a8')\"\n",
              "              title=\"Convert this dataframe to an interactive table.\"\n",
              "              style=\"display:none;\">\n",
              "        \n",
              "  <svg xmlns=\"http://www.w3.org/2000/svg\" height=\"24px\"viewBox=\"0 0 24 24\"\n",
              "       width=\"24px\">\n",
              "    <path d=\"M0 0h24v24H0V0z\" fill=\"none\"/>\n",
              "    <path d=\"M18.56 5.44l.94 2.06.94-2.06 2.06-.94-2.06-.94-.94-2.06-.94 2.06-2.06.94zm-11 1L8.5 8.5l.94-2.06 2.06-.94-2.06-.94L8.5 2.5l-.94 2.06-2.06.94zm10 10l.94 2.06.94-2.06 2.06-.94-2.06-.94-.94-2.06-.94 2.06-2.06.94z\"/><path d=\"M17.41 7.96l-1.37-1.37c-.4-.4-.92-.59-1.43-.59-.52 0-1.04.2-1.43.59L10.3 9.45l-7.72 7.72c-.78.78-.78 2.05 0 2.83L4 21.41c.39.39.9.59 1.41.59.51 0 1.02-.2 1.41-.59l7.78-7.78 2.81-2.81c.8-.78.8-2.07 0-2.86zM5.41 20L4 18.59l7.72-7.72 1.47 1.35L5.41 20z\"/>\n",
              "  </svg>\n",
              "      </button>\n",
              "      \n",
              "  <style>\n",
              "    .colab-df-container {\n",
              "      display:flex;\n",
              "      flex-wrap:wrap;\n",
              "      gap: 12px;\n",
              "    }\n",
              "\n",
              "    .colab-df-convert {\n",
              "      background-color: #E8F0FE;\n",
              "      border: none;\n",
              "      border-radius: 50%;\n",
              "      cursor: pointer;\n",
              "      display: none;\n",
              "      fill: #1967D2;\n",
              "      height: 32px;\n",
              "      padding: 0 0 0 0;\n",
              "      width: 32px;\n",
              "    }\n",
              "\n",
              "    .colab-df-convert:hover {\n",
              "      background-color: #E2EBFA;\n",
              "      box-shadow: 0px 1px 2px rgba(60, 64, 67, 0.3), 0px 1px 3px 1px rgba(60, 64, 67, 0.15);\n",
              "      fill: #174EA6;\n",
              "    }\n",
              "\n",
              "    [theme=dark] .colab-df-convert {\n",
              "      background-color: #3B4455;\n",
              "      fill: #D2E3FC;\n",
              "    }\n",
              "\n",
              "    [theme=dark] .colab-df-convert:hover {\n",
              "      background-color: #434B5C;\n",
              "      box-shadow: 0px 1px 3px 1px rgba(0, 0, 0, 0.15);\n",
              "      filter: drop-shadow(0px 1px 2px rgba(0, 0, 0, 0.3));\n",
              "      fill: #FFFFFF;\n",
              "    }\n",
              "  </style>\n",
              "\n",
              "      <script>\n",
              "        const buttonEl =\n",
              "          document.querySelector('#df-f81de6a1-8a24-4a63-87ca-390d88ad13a8 button.colab-df-convert');\n",
              "        buttonEl.style.display =\n",
              "          google.colab.kernel.accessAllowed ? 'block' : 'none';\n",
              "\n",
              "        async function convertToInteractive(key) {\n",
              "          const element = document.querySelector('#df-f81de6a1-8a24-4a63-87ca-390d88ad13a8');\n",
              "          const dataTable =\n",
              "            await google.colab.kernel.invokeFunction('convertToInteractive',\n",
              "                                                     [key], {});\n",
              "          if (!dataTable) return;\n",
              "\n",
              "          const docLinkHtml = 'Like what you see? Visit the ' +\n",
              "            '<a target=\"_blank\" href=https://colab.research.google.com/notebooks/data_table.ipynb>data table notebook</a>'\n",
              "            + ' to learn more about interactive tables.';\n",
              "          element.innerHTML = '';\n",
              "          dataTable['output_type'] = 'display_data';\n",
              "          await google.colab.output.renderOutput(dataTable, element);\n",
              "          const docLink = document.createElement('div');\n",
              "          docLink.innerHTML = docLinkHtml;\n",
              "          element.appendChild(docLink);\n",
              "        }\n",
              "      </script>\n",
              "    </div>\n",
              "  </div>\n",
              "  "
            ]
          },
          "metadata": {},
          "execution_count": 25
        }
      ]
    },
    {
      "cell_type": "markdown",
      "source": [
        "<p>With describe method we can see some statistics of the numerical attributes</p>\n",
        "<p>However in the dataframe we have several typologies, so we can't get much useful information by this</p>\n",
        "<p>Let's dig in a little more...</p>\n",
        "<br>\n",
        "<p>Let's start by importing some libraries that might be usuful</p>"
      ],
      "metadata": {
        "id": "1_gn-CP3CWdG"
      }
    },
    {
      "cell_type": "markdown",
      "source": [
        "<p>Checking for duplicates.</p>"
      ],
      "metadata": {
        "id": "or1VPy-0G1Dd"
      }
    },
    {
      "cell_type": "code",
      "source": [
        "#imovirtual_df.loc[imovirtual_df.duplicated()]\n",
        "print(f'Number of duplicates {imovirtual_df.duplicated().sum()}')"
      ],
      "metadata": {
        "colab": {
          "base_uri": "https://localhost:8080/"
        },
        "id": "EZPRTApFGsYT",
        "outputId": "514f1aa2-0f59-4e9a-9535-3a0d2f7c5ad8"
      },
      "execution_count": 90,
      "outputs": [
        {
          "output_type": "stream",
          "name": "stdout",
          "text": [
            "Number of duplicates 23\n"
          ]
        }
      ]
    },
    {
      "cell_type": "markdown",
      "source": [
        "<p>We can see that we have some duplicates. Let's remove them from the dataframe</p>"
      ],
      "metadata": {
        "id": "RqUKRt1E_FdB"
      }
    },
    {
      "cell_type": "code",
      "source": [
        "imovirtual_df.drop_duplicates(inplace=True)\n",
        "print(f'Number of duplicates {imovirtual_df.duplicated().sum()}')"
      ],
      "metadata": {
        "colab": {
          "base_uri": "https://localhost:8080/"
        },
        "id": "hKeMbMSJ_NeF",
        "outputId": "4da21a20-4bca-4fb6-de3d-21a5b8b9f213"
      },
      "execution_count": 91,
      "outputs": [
        {
          "output_type": "stream",
          "name": "stdout",
          "text": [
            "Number of duplicates 0\n"
          ]
        }
      ]
    },
    {
      "cell_type": "markdown",
      "source": [
        "<h2>At this stage, after making some preprocessing to the date fetched from the website we are able to start exploring the data and maybe draw some insights from it.</h2>\n",
        "<p>note: each time we run we'll get different data, unless we use the saved file</p>"
      ],
      "metadata": {
        "id": "WV_QqMCs_mrQ"
      }
    },
    {
      "cell_type": "code",
      "source": [
        "import matplotlib.pyplot as plt\n",
        "import seaborn as sns\n"
      ],
      "metadata": {
        "id": "p3erRwekCvDe"
      },
      "execution_count": 92,
      "outputs": []
    },
    {
      "cell_type": "code",
      "source": [
        "imovirtual_df.columns"
      ],
      "metadata": {
        "colab": {
          "base_uri": "https://localhost:8080/"
        },
        "id": "HZfZahEfDcmk",
        "outputId": "eaff796a-ddbe-4519-8279-65573bc676fd"
      },
      "execution_count": 29,
      "outputs": [
        {
          "output_type": "execute_result",
          "data": {
            "text/plain": [
              "Index(['Description', 'Area (m²)', 'Price (€/month)', 'Typology',\n",
              "       'Energy Efficiency', 'Address', 'City'],\n",
              "      dtype='object')"
            ]
          },
          "metadata": {},
          "execution_count": 29
        }
      ]
    },
    {
      "cell_type": "markdown",
      "source": [
        "<h2>Let's start by some basic statistics</h2>\n",
        "  <h3><b>Analysis of Price</b></h3>"
      ],
      "metadata": {
        "id": "zQwEXwCfA5Ix"
      }
    },
    {
      "cell_type": "code",
      "source": [
        "imovirtual_df['Price (€/month)'].describe()"
      ],
      "metadata": {
        "colab": {
          "base_uri": "https://localhost:8080/"
        },
        "id": "ILTFwDa6DRxY",
        "outputId": "ed1c21e1-abb6-4941-de93-972d02caf724"
      },
      "execution_count": 93,
      "outputs": [
        {
          "output_type": "execute_result",
          "data": {
            "text/plain": [
              "count      1958.00000\n",
              "mean       3960.58427\n",
              "std       33911.65536\n",
              "min          50.00000\n",
              "25%         730.00000\n",
              "50%         950.00000\n",
              "75%        1500.00000\n",
              "max      690000.00000\n",
              "Name: Price (€/month), dtype: float64"
            ]
          },
          "metadata": {},
          "execution_count": 93
        }
      ]
    },
    {
      "cell_type": "markdown",
      "source": [
        "<p>We can clearly see that we have some outliers. The mean value is affected by each value in the dataset. However, since the value of the mean is so distante from the max, in this case we clearly see that we have outliers.</p>\n",
        "<p>Let's just make a small plot to see the distribution by range of prices</p>"
      ],
      "metadata": {
        "id": "Uhwxl_7nElwD"
      }
    },
    {
      "cell_type": "code",
      "source": [
        "plt.figure(figsize=(6,6))\n",
        "sns.histplot(data=imovirtual_df, x='Price (€/month)')\n",
        "plt.title('Histogram for Price range distribution')\n",
        "plt.show()"
      ],
      "metadata": {
        "colab": {
          "base_uri": "https://localhost:8080/",
          "height": 404
        },
        "id": "OmT_AvHeFQkc",
        "outputId": "5d454ef9-0be0-44ba-92ac-4166900eff62"
      },
      "execution_count": 94,
      "outputs": [
        {
          "output_type": "display_data",
          "data": {
            "text/plain": [
              "<Figure size 432x432 with 1 Axes>"
            ],
            "image/png": "[encoded data removed]"
          },
          "metadata": {
            "needs_background": "light"
          }
        }
      ]
    },
    {
      "cell_type": "markdown",
      "source": [
        "<p>In the website, we selected apartments to rent, however it seems that we are also getting some ads to buy houses, and we don't want that. So for that reason we bery high prices</p>\n",
        "<p>It seems that this website doesn't distinguish between renting, selling, transfering a comercial space</p>\n",
        "<p>So considering that we can buy/transfer space at starting from 15000€, let's remove rows with higher values than that. I think that a max renting price of 8000€</p>\n"
      ],
      "metadata": {
        "id": "JmJ_z5rqe_l_"
      }
    },
    {
      "cell_type": "code",
      "source": [
        "imovirtual_df_ = imovirtual_df.copy(deep=True)\n",
        "imovirtual_df_.drop(imovirtual_df_.loc[imovirtual_df_['Price (€/month)']> 15000].index,axis=0, inplace=True)\n",
        "\n",
        "plt.figure(figsize=(6,6))\n",
        "sns.histplot(data=imovirtual_df_, x='Price (€/month)')\n",
        "plt.title('Histogram for Price range distribution')\n",
        "plt.show()"
      ],
      "metadata": {
        "colab": {
          "base_uri": "https://localhost:8080/",
          "height": 404
        },
        "id": "TeAk05X9e_XP",
        "outputId": "f131797e-7830-49ff-92c8-fc161bdd6fb8"
      },
      "execution_count": 95,
      "outputs": [
        {
          "output_type": "display_data",
          "data": {
            "text/plain": [
              "<Figure size 432x432 with 1 Axes>"
            ],
            "image/png": "[encoded data removed]"
          },
          "metadata": {
            "needs_background": "light"
          }
        }
      ]
    },
    {
      "cell_type": "code",
      "source": [
        "imovirtual_df.shape, imovirtual_df_.shape "
      ],
      "metadata": {
        "colab": {
          "base_uri": "https://localhost:8080/"
        },
        "id": "KAjOVM6Xhm0v",
        "outputId": "5729a2dc-3831-4966-97b5-048dcf805d4c"
      },
      "execution_count": 96,
      "outputs": [
        {
          "output_type": "execute_result",
          "data": {
            "text/plain": [
              "((1969, 7), (1953, 7))"
            ]
          },
          "metadata": {},
          "execution_count": 96
        }
      ]
    },
    {
      "cell_type": "code",
      "source": [
        "#imovirtual_df_.loc[imovirtual_df_['Price (€/month)']> 8000]"
      ],
      "metadata": {
        "id": "oJbcHLCTf11Q"
      },
      "execution_count": 75,
      "outputs": []
    },
    {
      "cell_type": "code",
      "source": [
        "imovirtual_df = imovirtual_df_"
      ],
      "metadata": {
        "id": "Q-i718EviALz"
      },
      "execution_count": 97,
      "outputs": []
    },
    {
      "cell_type": "markdown",
      "source": [
        "<p>As it was expected, this doesn't follow a normal distribution. Thus in order to identify and remove outliers from the dataset we'll use IQR method.</p>\n",
        "<p>This states that an outlier is any values below the range of Q1 - 1.5* IQR and above Q3 + 1.5IQR</p>"
      ],
      "metadata": {
        "id": "PhObRf93F4Qj"
      }
    },
    {
      "cell_type": "code",
      "source": [
        "def outlier_iqr(dataframe, col: str):\n",
        "  Q1 = dataframe[col].quantile(0.25)\n",
        "  Q3 = dataframe[col].quantile(0.75)\n",
        "  #IQR = Q3 - Q1\n",
        "  IQR = Q3 - Q1\n",
        "  #print(Q1, Q3, IQR)\n",
        "  #outlier = dataframe.loc[(dataframe[col]<(Q1 - 1.5*IQR) or dataframe[col] > (Q3 + 1.5*IQR))]\n",
        "  print(f'Below: {(Q1 - 1.5*IQR)} \\nAbove: {(Q3 + 1.5*IQR)}')\n",
        "  outliers = dataframe[((dataframe[col] < (Q1 - 1.5*IQR)) | (dataframe[col] > (Q3 + 1.5*IQR)))]\n",
        "\n",
        "  return outliers"
      ],
      "metadata": {
        "id": "4A7QutZjGb7R"
      },
      "execution_count": 98,
      "outputs": []
    },
    {
      "cell_type": "code",
      "source": [
        "outliers = outlier_iqr(imovirtual_df, 'Price (€/month)')"
      ],
      "metadata": {
        "colab": {
          "base_uri": "https://localhost:8080/"
        },
        "id": "gypo3DkdcL-_",
        "outputId": "a6738cdd-ae22-4b37-81fa-d564801f9e58"
      },
      "execution_count": 99,
      "outputs": [
        {
          "output_type": "stream",
          "name": "stdout",
          "text": [
            "Below: -425.0 \n",
            "Above: 2655.0\n"
          ]
        }
      ]
    },
    {
      "cell_type": "markdown",
      "source": [
        "<p>After identifying the Outliers in price, we can check how many they are and then we can remove them from the dataframe</p>"
      ],
      "metadata": {
        "id": "-1viWNhDdTqW"
      }
    },
    {
      "cell_type": "code",
      "source": [
        "print(f'We found {len(outliers)} in Price (€/month)')"
      ],
      "metadata": {
        "colab": {
          "base_uri": "https://localhost:8080/"
        },
        "id": "hsJE0Byndbhn",
        "outputId": "c02dfbdc-0ac8-4132-e5e3-fde37537e42c"
      },
      "execution_count": 100,
      "outputs": [
        {
          "output_type": "stream",
          "name": "stdout",
          "text": [
            "We found 171 in Price (€/month)\n"
          ]
        }
      ]
    },
    {
      "cell_type": "markdown",
      "source": [
        "<p>These values doesn't mean they are wrong. These could be houses in a very expensive part of town, maybe they have special features.</p> "
      ],
      "metadata": {
        "id": "cOvXVjLOdlTV"
      }
    },
    {
      "cell_type": "code",
      "source": [
        "(outliers.index)"
      ],
      "metadata": {
        "colab": {
          "base_uri": "https://localhost:8080/"
        },
        "id": "prEvt_JacWl2",
        "outputId": "18d8e9aa-841f-4e13-f2d3-999675370972"
      },
      "execution_count": 101,
      "outputs": [
        {
          "output_type": "execute_result",
          "data": {
            "text/plain": [
              "Int64Index([  14,   16,   25,   28,   47,   49,   57,   60,   65,   77,\n",
              "            ...\n",
              "            1073, 1084, 1091, 1283, 1309, 1358, 1543, 1567, 1591, 1657],\n",
              "           dtype='int64', length=171)"
            ]
          },
          "metadata": {},
          "execution_count": 101
        }
      ]
    },
    {
      "cell_type": "markdown",
      "source": [
        "<p>Next step, remove the outliers</p>"
      ],
      "metadata": {
        "id": "jzvTrOKoiTMT"
      }
    },
    {
      "cell_type": "code",
      "source": [
        "imovirtual_df.shape"
      ],
      "metadata": {
        "colab": {
          "base_uri": "https://localhost:8080/"
        },
        "id": "Nbak78BWj6r-",
        "outputId": "557f74d2-905f-4c73-8e8c-f7d2645b3f17"
      },
      "execution_count": 102,
      "outputs": [
        {
          "output_type": "execute_result",
          "data": {
            "text/plain": [
              "(1953, 7)"
            ]
          },
          "metadata": {},
          "execution_count": 102
        }
      ]
    },
    {
      "cell_type": "code",
      "source": [
        "imovirtual_df.drop(outliers.index, axis=0, inplace=True)\n",
        "imovirtual_df.shape"
      ],
      "metadata": {
        "colab": {
          "base_uri": "https://localhost:8080/"
        },
        "id": "S_HnhC9FiSEf",
        "outputId": "a6926ebb-6aa5-4e7b-ef5a-c38a5a61f1ac"
      },
      "execution_count": 103,
      "outputs": [
        {
          "output_type": "execute_result",
          "data": {
            "text/plain": [
              "(1782, 7)"
            ]
          },
          "metadata": {},
          "execution_count": 103
        }
      ]
    },
    {
      "cell_type": "markdown",
      "source": [
        " <p>Let's check the distribution of apartments by typology</p>"
      ],
      "metadata": {
        "id": "TEXSdDrcE5Li"
      }
    },
    {
      "cell_type": "code",
      "source": [
        "plt.figure(figsize=(10,6))\n",
        "sns.countplot(data=imovirtual_df, x='Typology')\n",
        "plt.title('Number of apartments by Typology')\n",
        "plt.show()"
      ],
      "metadata": {
        "colab": {
          "base_uri": "https://localhost:8080/",
          "height": 404
        },
        "id": "MeMQFtAfFgn1",
        "outputId": "38923f52-2958-4947-ce95-2f355a26acce"
      },
      "execution_count": 104,
      "outputs": [
        {
          "output_type": "display_data",
          "data": {
            "text/plain": [
              "<Figure size 720x432 with 1 Axes>"
            ],
            "image/png": "[encoded data removed]"
          },
          "metadata": {
            "needs_background": "light"
          }
        }
      ]
    },
    {
      "cell_type": "markdown",
      "source": [
        "<p>Let's show some boxplots to show the distribuition of prices by typology</p>"
      ],
      "metadata": {
        "id": "f4SkEAgyDKQc"
      }
    },
    {
      "cell_type": "code",
      "source": [
        "#imovirtual_df.head(10)"
      ],
      "metadata": {
        "id": "6u3k3fhy_c79"
      },
      "execution_count": 105,
      "outputs": []
    },
    {
      "cell_type": "code",
      "source": [
        "imovirtual_df=imovirtual_df.sort_values(by='Typology')\n"
      ],
      "metadata": {
        "id": "rOtcxigQnAh_"
      },
      "execution_count": 113,
      "outputs": []
    },
    {
      "cell_type": "code",
      "source": [
        "plt.figure(figsize=(10,6))\n",
        "sns.boxplot(data=imvirtual_, x='Typology', y='Price (€/month)')\n",
        "plt.title('Typology vs Price (BoxPlot)')\n",
        "plt.show()"
      ],
      "metadata": {
        "colab": {
          "base_uri": "https://localhost:8080/",
          "height": 404
        },
        "id": "DDdrvffVDGG4",
        "outputId": "aaee85b0-e14b-4d73-cbfc-0cda1f9fdbf6"
      },
      "execution_count": 114,
      "outputs": [
        {
          "output_type": "display_data",
          "data": {
            "text/plain": [
              "<Figure size 720x432 with 1 Axes>"
            ],
            "image/png": "[encoded data removed]"
          },
          "metadata": {
            "needs_background": "light"
          }
        }
      ]
    },
    {
      "cell_type": "markdown",
      "source": [
        "<p>With this graph we can see the variation of price for each typology.</p>\n",
        "<p>We can also see that we have a linear relationship between the prices and the typology</p>"
      ],
      "metadata": {
        "id": "C8wurQaaHJEc"
      }
    },
    {
      "cell_type": "markdown",
      "source": [],
      "metadata": {
        "id": "N78PBerColl4"
      }
    },
    {
      "cell_type": "markdown",
      "source": [
        "<h3>Analysis of Areas</h3>"
      ],
      "metadata": {
        "id": "Zcgj4e0Vo0iX"
      }
    },
    {
      "cell_type": "code",
      "source": [
        "plt.figure(figsize=(10,6))\n",
        "sns.scatterplot(data=imvirtual_, x='Area (m²)', y='Price (€/month)', hue='Typology')\n",
        "plt.title('Typology vs Area Scatter Plot')\n",
        "plt.show()"
      ],
      "metadata": {
        "colab": {
          "base_uri": "https://localhost:8080/",
          "height": 404
        },
        "id": "3Nt3NaMIof0J",
        "outputId": "13eae8e5-7ee9-4642-8626-3a4cfe6c420e"
      },
      "execution_count": 117,
      "outputs": [
        {
          "output_type": "display_data",
          "data": {
            "text/plain": [
              "<Figure size 720x432 with 1 Axes>"
            ],
            "image/png": "[encoded data removed]"
          },
          "metadata": {
            "needs_background": "light"
          }
        }
      ]
    },
    {
      "cell_type": "markdown",
      "source": [
        "<p>We can't make a clear distinction or relation between the area and the renting price</p>\n",
        "<p>However if we introduce a color component for the typology we see clusters</p>"
      ],
      "metadata": {
        "id": "LAjNGgjEpdZU"
      }
    },
    {
      "cell_type": "markdown",
      "source": [
        "<h2>Let's analyze the different reagions</h2>\n"
      ],
      "metadata": {
        "id": "1OjUa0yIrAyU"
      }
    },
    {
      "cell_type": "code",
      "source": [
        "cities = imovirtual_df['City'].unique()\n",
        "cities"
      ],
      "metadata": {
        "colab": {
          "base_uri": "https://localhost:8080/"
        },
        "id": "fT85pOpkpnVy",
        "outputId": "25387efc-fab6-4021-c384-23f573fbe10b"
      },
      "execution_count": 118,
      "outputs": [
        {
          "output_type": "execute_result",
          "data": {
            "text/plain": [
              "array([' Faro', ' Porto', 'Castelo Branco', ' Coimbra', ' Lisboa',\n",
              "       ' Aveiro', ' Guarda', ' Setúbal', ' Castelo Branco', ' Braga',\n",
              "       ' Santarém', ' Ilha da Madeira', ' Vila Real', ' Portalegre',\n",
              "       ' Beja', ' Viana do Castelo', ' Leiria', ' Ilha de São Miguel',\n",
              "       ' Viseu', 'Viseu', ' Ilha de Porto Santo', ' Évora', ' Bragança'],\n",
              "      dtype=object)"
            ]
          },
          "metadata": {},
          "execution_count": 118
        }
      ]
    },
    {
      "cell_type": "markdown",
      "source": [
        "<p>Let's compare de different areas in terms of max min mean renting prices</p>"
      ],
      "metadata": {
        "id": "QAMizUY2t0zC"
      }
    },
    {
      "cell_type": "code",
      "source": [
        "stats = {'City': [], 'Max price': [], 'Min price': [], 'Average price': []}\n",
        "for city in cities:\n",
        "  stats['City'].append(city)\n",
        "  stats['Max price'].append(imovirtual_df['Price (€/month)'].loc[imovirtual_df['City'] == city].max())\n",
        "  stats['Min price'].append(imovirtual_df['Price (€/month)'].loc[imovirtual_df['City'] == city].min())\n",
        "  stats['Average price'].append(imovirtual_df['Price (€/month)'].loc[imovirtual_df['City'] == city].mean())\n",
        "\n",
        "stats_df = pd.DataFrame.from_dict(stats)\n",
        "stats_df.sort_values(by='Average price',inplace=True,ascending=False)\n",
        "#stats_df\n",
        "\n",
        "print('Higher Max Min Average Prices')\n",
        "print(f\"Higher Average: {stats_df['Average price'].max()} - City: {stats_df['City'].loc[stats_df['Average price'] == stats_df['Average price'].max()].values}\")\n",
        "print(f\"Higher Max Price {stats_df['Max price'].max()} - City: {stats_df['City'].loc[stats_df['Max price'] == stats_df['Max price'].max()].values}\")\n",
        "print(f\"Higher Min Price {stats_df['Min price'].max()} - City: {stats_df['City'].loc[stats_df['Min price'] == stats_df['Min price'].max()].values}\")\n",
        "\n",
        "print('Lower Max Min Average Prices')\n",
        "print(f\"Higher Average: {stats_df['Average price'].min()} - City: {stats_df['City'].loc[stats_df['Average price'] == stats_df['Average price'].min()].values}\")\n",
        "print(f\"Higher Max Price {stats_df['Max price'].min()} - City: {stats_df['City'].loc[stats_df['Max price'] == stats_df['Max price'].min()].values}\")\n",
        "print(f\"Higher Min Price {stats_df['Min price'].min()} - City: {stats_df['City'].loc[stats_df['Min price'] == stats_df['Min price'].min()].values}\")\n",
        "\n"
      ],
      "metadata": {
        "colab": {
          "base_uri": "https://localhost:8080/"
        },
        "id": "-7f8kY1pt0Wv",
        "outputId": "f1a15087-daea-47b5-b62a-6a369acf8bba"
      },
      "execution_count": 135,
      "outputs": [
        {
          "output_type": "stream",
          "name": "stdout",
          "text": [
            "Higher Max Min Average Prices\n",
            "Higher Average: 1354.9290322580646 - City: [' Lisboa']\n",
            "Higher Max Price 2650.0 - City: [' Lisboa']\n",
            "Higher Min Price 550.0 - City: [' Ilha da Madeira']\n",
            "Lower Max Min Average Prices\n",
            "Higher Average: 390.0 - City: [' Portalegre']\n",
            "Higher Max Price 450.0 - City: [' Ilha de Porto Santo']\n",
            "Higher Min Price 50.0 - City: [' Leiria']\n"
          ]
        }
      ]
    },
    {
      "cell_type": "code",
      "source": [
        "stats_df"
      ],
      "metadata": {
        "colab": {
          "base_uri": "https://localhost:8080/",
          "height": 770
        },
        "id": "j_oQu0yywV7r",
        "outputId": "d45fc2b0-975b-4a26-a7da-b06a0360ac18"
      },
      "execution_count": 130,
      "outputs": [
        {
          "output_type": "execute_result",
          "data": {
            "text/plain": [
              "                    City  Max price  Min price  Average price\n",
              "4                 Lisboa     2650.0       60.0    1354.929032\n",
              "11       Ilha da Madeira     2500.0      550.0    1250.000000\n",
              "1                  Porto     2500.0      250.0    1046.332530\n",
              "21                 Évora     2500.0      500.0    1035.714286\n",
              "7                Setúbal     2500.0      360.0     928.125000\n",
              "0                   Faro     2000.0      350.0     891.817610\n",
              "9                  Braga     2500.0      300.0     879.473684\n",
              "16                Leiria     1600.0       50.0     787.900000\n",
              "5                 Aveiro     1350.0      240.0     751.640625\n",
              "3                Coimbra     1500.0      190.0     708.115942\n",
              "15      Viana do Castelo     1500.0      350.0     704.772727\n",
              "17    Ilha de São Miguel     1200.0      450.0     687.500000\n",
              "19                 Viseu      900.0      320.0     640.000000\n",
              "10              Santarém     1500.0      200.0     622.846154\n",
              "2         Castelo Branco      750.0      375.0     543.750000\n",
              "14                  Beja      700.0      400.0     525.000000\n",
              "8         Castelo Branco      840.0      315.0     520.294118\n",
              "22              Bragança      620.0      400.0     493.333333\n",
              "18                 Viseu      850.0      220.0     460.000000\n",
              "12             Vila Real      750.0      200.0     451.500000\n",
              "20   Ilha de Porto Santo      450.0      450.0     450.000000\n",
              "6                 Guarda      680.0      180.0     403.000000\n",
              "13            Portalegre      690.0      200.0     390.000000"
            ],
            "text/html": [
              "\n",
              "  <div id=\"df-63a80eaf-3c40-4182-a0bc-2026ecb7ac92\">\n",
              "    <div class=\"colab-df-container\">\n",
              "      <div>\n",
              "<style scoped>\n",
              "    .dataframe tbody tr th:only-of-type {\n",
              "        vertical-align: middle;\n",
              "    }\n",
              "\n",
              "    .dataframe tbody tr th {\n",
              "        vertical-align: top;\n",
              "    }\n",
              "\n",
              "    .dataframe thead th {\n",
              "        text-align: right;\n",
              "    }\n",
              "</style>\n",
              "<table border=\"1\" class=\"dataframe\">\n",
              "  <thead>\n",
              "    <tr style=\"text-align: right;\">\n",
              "      <th></th>\n",
              "      <th>City</th>\n",
              "      <th>Max price</th>\n",
              "      <th>Min price</th>\n",
              "      <th>Average price</th>\n",
              "    </tr>\n",
              "  </thead>\n",
              "  <tbody>\n",
              "    <tr>\n",
              "      <th>4</th>\n",
              "      <td>Lisboa</td>\n",
              "      <td>2650.0</td>\n",
              "      <td>60.0</td>\n",
              "      <td>1354.929032</td>\n",
              "    </tr>\n",
              "    <tr>\n",
              "      <th>11</th>\n",
              "      <td>Ilha da Madeira</td>\n",
              "      <td>2500.0</td>\n",
              "      <td>550.0</td>\n",
              "      <td>1250.000000</td>\n",
              "    </tr>\n",
              "    <tr>\n",
              "      <th>1</th>\n",
              "      <td>Porto</td>\n",
              "      <td>2500.0</td>\n",
              "      <td>250.0</td>\n",
              "      <td>1046.332530</td>\n",
              "    </tr>\n",
              "    <tr>\n",
              "      <th>21</th>\n",
              "      <td>Évora</td>\n",
              "      <td>2500.0</td>\n",
              "      <td>500.0</td>\n",
              "      <td>1035.714286</td>\n",
              "    </tr>\n",
              "    <tr>\n",
              "      <th>7</th>\n",
              "      <td>Setúbal</td>\n",
              "      <td>2500.0</td>\n",
              "      <td>360.0</td>\n",
              "      <td>928.125000</td>\n",
              "    </tr>\n",
              "    <tr>\n",
              "      <th>0</th>\n",
              "      <td>Faro</td>\n",
              "      <td>2000.0</td>\n",
              "      <td>350.0</td>\n",
              "      <td>891.817610</td>\n",
              "    </tr>\n",
              "    <tr>\n",
              "      <th>9</th>\n",
              "      <td>Braga</td>\n",
              "      <td>2500.0</td>\n",
              "      <td>300.0</td>\n",
              "      <td>879.473684</td>\n",
              "    </tr>\n",
              "    <tr>\n",
              "      <th>16</th>\n",
              "      <td>Leiria</td>\n",
              "      <td>1600.0</td>\n",
              "      <td>50.0</td>\n",
              "      <td>787.900000</td>\n",
              "    </tr>\n",
              "    <tr>\n",
              "      <th>5</th>\n",
              "      <td>Aveiro</td>\n",
              "      <td>1350.0</td>\n",
              "      <td>240.0</td>\n",
              "      <td>751.640625</td>\n",
              "    </tr>\n",
              "    <tr>\n",
              "      <th>3</th>\n",
              "      <td>Coimbra</td>\n",
              "      <td>1500.0</td>\n",
              "      <td>190.0</td>\n",
              "      <td>708.115942</td>\n",
              "    </tr>\n",
              "    <tr>\n",
              "      <th>15</th>\n",
              "      <td>Viana do Castelo</td>\n",
              "      <td>1500.0</td>\n",
              "      <td>350.0</td>\n",
              "      <td>704.772727</td>\n",
              "    </tr>\n",
              "    <tr>\n",
              "      <th>17</th>\n",
              "      <td>Ilha de São Miguel</td>\n",
              "      <td>1200.0</td>\n",
              "      <td>450.0</td>\n",
              "      <td>687.500000</td>\n",
              "    </tr>\n",
              "    <tr>\n",
              "      <th>19</th>\n",
              "      <td>Viseu</td>\n",
              "      <td>900.0</td>\n",
              "      <td>320.0</td>\n",
              "      <td>640.000000</td>\n",
              "    </tr>\n",
              "    <tr>\n",
              "      <th>10</th>\n",
              "      <td>Santarém</td>\n",
              "      <td>1500.0</td>\n",
              "      <td>200.0</td>\n",
              "      <td>622.846154</td>\n",
              "    </tr>\n",
              "    <tr>\n",
              "      <th>2</th>\n",
              "      <td>Castelo Branco</td>\n",
              "      <td>750.0</td>\n",
              "      <td>375.0</td>\n",
              "      <td>543.750000</td>\n",
              "    </tr>\n",
              "    <tr>\n",
              "      <th>14</th>\n",
              "      <td>Beja</td>\n",
              "      <td>700.0</td>\n",
              "      <td>400.0</td>\n",
              "      <td>525.000000</td>\n",
              "    </tr>\n",
              "    <tr>\n",
              "      <th>8</th>\n",
              "      <td>Castelo Branco</td>\n",
              "      <td>840.0</td>\n",
              "      <td>315.0</td>\n",
              "      <td>520.294118</td>\n",
              "    </tr>\n",
              "    <tr>\n",
              "      <th>22</th>\n",
              "      <td>Bragança</td>\n",
              "      <td>620.0</td>\n",
              "      <td>400.0</td>\n",
              "      <td>493.333333</td>\n",
              "    </tr>\n",
              "    <tr>\n",
              "      <th>18</th>\n",
              "      <td>Viseu</td>\n",
              "      <td>850.0</td>\n",
              "      <td>220.0</td>\n",
              "      <td>460.000000</td>\n",
              "    </tr>\n",
              "    <tr>\n",
              "      <th>12</th>\n",
              "      <td>Vila Real</td>\n",
              "      <td>750.0</td>\n",
              "      <td>200.0</td>\n",
              "      <td>451.500000</td>\n",
              "    </tr>\n",
              "    <tr>\n",
              "      <th>20</th>\n",
              "      <td>Ilha de Porto Santo</td>\n",
              "      <td>450.0</td>\n",
              "      <td>450.0</td>\n",
              "      <td>450.000000</td>\n",
              "    </tr>\n",
              "    <tr>\n",
              "      <th>6</th>\n",
              "      <td>Guarda</td>\n",
              "      <td>680.0</td>\n",
              "      <td>180.0</td>\n",
              "      <td>403.000000</td>\n",
              "    </tr>\n",
              "    <tr>\n",
              "      <th>13</th>\n",
              "      <td>Portalegre</td>\n",
              "      <td>690.0</td>\n",
              "      <td>200.0</td>\n",
              "      <td>390.000000</td>\n",
              "    </tr>\n",
              "  </tbody>\n",
              "</table>\n",
              "</div>\n",
              "      <button class=\"colab-df-convert\" onclick=\"convertToInteractive('df-63a80eaf-3c40-4182-a0bc-2026ecb7ac92')\"\n",
              "              title=\"Convert this dataframe to an interactive table.\"\n",
              "              style=\"display:none;\">\n",
              "        \n",
              "  <svg xmlns=\"http://www.w3.org/2000/svg\" height=\"24px\"viewBox=\"0 0 24 24\"\n",
              "       width=\"24px\">\n",
              "    <path d=\"M0 0h24v24H0V0z\" fill=\"none\"/>\n",
              "    <path d=\"M18.56 5.44l.94 2.06.94-2.06 2.06-.94-2.06-.94-.94-2.06-.94 2.06-2.06.94zm-11 1L8.5 8.5l.94-2.06 2.06-.94-2.06-.94L8.5 2.5l-.94 2.06-2.06.94zm10 10l.94 2.06.94-2.06 2.06-.94-2.06-.94-.94-2.06-.94 2.06-2.06.94z\"/><path d=\"M17.41 7.96l-1.37-1.37c-.4-.4-.92-.59-1.43-.59-.52 0-1.04.2-1.43.59L10.3 9.45l-7.72 7.72c-.78.78-.78 2.05 0 2.83L4 21.41c.39.39.9.59 1.41.59.51 0 1.02-.2 1.41-.59l7.78-7.78 2.81-2.81c.8-.78.8-2.07 0-2.86zM5.41 20L4 18.59l7.72-7.72 1.47 1.35L5.41 20z\"/>\n",
              "  </svg>\n",
              "      </button>\n",
              "      \n",
              "  <style>\n",
              "    .colab-df-container {\n",
              "      display:flex;\n",
              "      flex-wrap:wrap;\n",
              "      gap: 12px;\n",
              "    }\n",
              "\n",
              "    .colab-df-convert {\n",
              "      background-color: #E8F0FE;\n",
              "      border: none;\n",
              "      border-radius: 50%;\n",
              "      cursor: pointer;\n",
              "      display: none;\n",
              "      fill: #1967D2;\n",
              "      height: 32px;\n",
              "      padding: 0 0 0 0;\n",
              "      width: 32px;\n",
              "    }\n",
              "\n",
              "    .colab-df-convert:hover {\n",
              "      background-color: #E2EBFA;\n",
              "      box-shadow: 0px 1px 2px rgba(60, 64, 67, 0.3), 0px 1px 3px 1px rgba(60, 64, 67, 0.15);\n",
              "      fill: #174EA6;\n",
              "    }\n",
              "\n",
              "    [theme=dark] .colab-df-convert {\n",
              "      background-color: #3B4455;\n",
              "      fill: #D2E3FC;\n",
              "    }\n",
              "\n",
              "    [theme=dark] .colab-df-convert:hover {\n",
              "      background-color: #434B5C;\n",
              "      box-shadow: 0px 1px 3px 1px rgba(0, 0, 0, 0.15);\n",
              "      filter: drop-shadow(0px 1px 2px rgba(0, 0, 0, 0.3));\n",
              "      fill: #FFFFFF;\n",
              "    }\n",
              "  </style>\n",
              "\n",
              "      <script>\n",
              "        const buttonEl =\n",
              "          document.querySelector('#df-63a80eaf-3c40-4182-a0bc-2026ecb7ac92 button.colab-df-convert');\n",
              "        buttonEl.style.display =\n",
              "          google.colab.kernel.accessAllowed ? 'block' : 'none';\n",
              "\n",
              "        async function convertToInteractive(key) {\n",
              "          const element = document.querySelector('#df-63a80eaf-3c40-4182-a0bc-2026ecb7ac92');\n",
              "          const dataTable =\n",
              "            await google.colab.kernel.invokeFunction('convertToInteractive',\n",
              "                                                     [key], {});\n",
              "          if (!dataTable) return;\n",
              "\n",
              "          const docLinkHtml = 'Like what you see? Visit the ' +\n",
              "            '<a target=\"_blank\" href=https://colab.research.google.com/notebooks/data_table.ipynb>data table notebook</a>'\n",
              "            + ' to learn more about interactive tables.';\n",
              "          element.innerHTML = '';\n",
              "          dataTable['output_type'] = 'display_data';\n",
              "          await google.colab.output.renderOutput(dataTable, element);\n",
              "          const docLink = document.createElement('div');\n",
              "          docLink.innerHTML = docLinkHtml;\n",
              "          element.appendChild(docLink);\n",
              "        }\n",
              "      </script>\n",
              "    </div>\n",
              "  </div>\n",
              "  "
            ]
          },
          "metadata": {},
          "execution_count": 130
        }
      ]
    }
  ]
}